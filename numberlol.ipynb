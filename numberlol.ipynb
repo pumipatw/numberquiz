{
 "cells": [
  {
   "cell_type": "code",
   "execution_count": 1,
   "metadata": {},
   "outputs": [
    {
     "data": {
      "text/plain": [
       "-0.22314316190476188"
      ]
     },
     "execution_count": 1,
     "metadata": {},
     "output_type": "execute_result"
    }
   ],
   "source": [
    "# ln (x) question\n",
    "def ln(x):\n",
    "    x = 1-x\n",
    "    pre = 0\n",
    "    result = -x\n",
    "    i = 2\n",
    "    while pre - result > 0.00001:\n",
    "        pre = result\n",
    "        result -= pow(x,i) / i\n",
    "        i = i+1\n",
    "    return result\n",
    "ln(0.8)"
   ]
  },
  {
   "cell_type": "code",
   "execution_count": 2,
   "metadata": {},
   "outputs": [
    {
     "data": {
      "text/plain": [
       "-0.22266666666666662"
      ]
     },
     "execution_count": 2,
     "metadata": {},
     "output_type": "execute_result"
    }
   ],
   "source": [
    "# 4 iterations\n",
    "def lniter4(x):\n",
    "    x = 1-x\n",
    "    result = -x\n",
    "    for i in range(2,4) :\n",
    "        result -= pow(x,i) / i\n",
    "    return result\n",
    "lniter4(0.8)"
   ]
  },
  {
   "cell_type": "code",
   "execution_count": 3,
   "metadata": {},
   "outputs": [
    {
     "data": {
      "text/plain": [
       "1.414213562373095"
      ]
     },
     "execution_count": 3,
     "metadata": {},
     "output_type": "execute_result"
    }
   ],
   "source": [
    "# square root appox\n",
    "def squareroot(x) :\n",
    "    n = 1\n",
    "    result = (n + x/n) / 2\n",
    "    while abs(n - result) > 0.0000001:\n",
    "        n = result\n",
    "        result = (n + x/n) / 2\n",
    "    return result\n",
    "squareroot(2)"
   ]
  },
  {
   "cell_type": "code",
   "execution_count": 4,
   "metadata": {},
   "outputs": [
    {
     "data": {
      "text/plain": [
       "1.7320508075688772"
      ]
     },
     "execution_count": 4,
     "metadata": {},
     "output_type": "execute_result"
    }
   ],
   "source": [
    "# square root 4 iter\n",
    "def squarerootiter4(x) :\n",
    "    n = 1\n",
    "    result = (n + x/n) / 2\n",
    "    for i in range(2,4):\n",
    "        n = result\n",
    "        result = (n + x/n) / 2\n",
    "    return result\n",
    "squareroot(3)"
   ]
  },
  {
   "cell_type": "code",
   "execution_count": 35,
   "metadata": {},
   "outputs": [],
   "source": [
    "import numpy as np\n",
    "linsys = np.array([[1,2,-1],[2,-3,1],[5,-1,-2]], dtype='float')\n",
    "b = np.array([[2],[-1],[-3]])"
   ]
  },
  {
   "cell_type": "code",
   "execution_count": 36,
   "metadata": {},
   "outputs": [
    {
     "data": {
      "text/plain": [
       "array([[ 1.],\n",
       "       [ 2.],\n",
       "       [ 3.]])"
      ]
     },
     "execution_count": 36,
     "metadata": {},
     "output_type": "execute_result"
    }
   ],
   "source": [
    "def inversesolve(x, b) :\n",
    "    y = np.linalg.inv(x)\n",
    "    return np.dot(y,b)\n",
    "inversesolve(linsys, b)"
   ]
  },
  {
   "cell_type": "code",
   "execution_count": 37,
   "metadata": {},
   "outputs": [
    {
     "data": {
      "text/plain": [
       "array([ 1.        ,  0.71428571,  1.5       ])"
      ]
     },
     "execution_count": 37,
     "metadata": {},
     "output_type": "execute_result"
    }
   ],
   "source": [
    "def gausselimate(x, b) :\n",
    "    result = np.hstack((x,b))\n",
    "    n = len(result)\n",
    "    for i in range(n):\n",
    "        a = result[i]\n",
    "    for j in range(i + 1, n):\n",
    "        b = result[j]\n",
    "        m = a[i] / b[i]\n",
    "        result[j] = a - m * b\n",
    "\n",
    "    for i in range(n - 1, -1, -1):\n",
    "        result[i] = result[i] / result[i, i]\n",
    "        a = result[i]\n",
    "        for j in range(i - 1, -1, -1):\n",
    "            b = result[j]\n",
    "            m = a[i] / b[i]\n",
    "            result[j] = a - m * b\n",
    "    return result[:, 3]\n",
    "gausselimate(linsys, b)"
   ]
  },
  {
   "cell_type": "code",
   "execution_count": 29,
   "metadata": {},
   "outputs": [
    {
     "name": "stdout",
     "output_type": "stream",
     "text": [
      "[[ 1  2 -1  2]\n",
      " [ 2 -3  1 -1]\n",
      " [ 5 -1 -2 -3]]\n"
     ]
    }
   ],
   "source": [
    "ab = np.hstack((linsys, b))\n",
    "print(ab)"
   ]
  },
  {
   "cell_type": "code",
   "execution_count": 27,
   "metadata": {},
   "outputs": [
    {
     "name": "stdout",
     "output_type": "stream",
     "text": [
      "(array([ 2, -3,  1]), array([-1]))\n"
     ]
    }
   ],
   "source": [
    "print((linsys[1], b[1]))"
   ]
  },
  {
   "cell_type": "code",
   "execution_count": 31,
   "metadata": {},
   "outputs": [
    {
     "data": {
      "text/plain": [
       "4"
      ]
     },
     "execution_count": 31,
     "metadata": {},
     "output_type": "execute_result"
    }
   ],
   "source": [
    "len(ab[0])"
   ]
  },
  {
   "cell_type": "code",
   "execution_count": null,
   "metadata": {},
   "outputs": [],
   "source": []
  }
 ],
 "metadata": {
  "kernelspec": {
   "display_name": "Python 3",
   "language": "python",
   "name": "python3"
  },
  "language_info": {
   "codemirror_mode": {
    "name": "ipython",
    "version": 3
   },
   "file_extension": ".py",
   "mimetype": "text/x-python",
   "name": "python",
   "nbconvert_exporter": "python",
   "pygments_lexer": "ipython3",
   "version": "3.6.9"
  }
 },
 "nbformat": 4,
 "nbformat_minor": 2
}
