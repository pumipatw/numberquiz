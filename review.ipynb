{
 "cells": [
  {
   "cell_type": "code",
   "execution_count": 44,
   "metadata": {},
   "outputs": [],
   "source": [
    "import math\n",
    "def f(x): \n",
    "    return math.e**(0.5*x)-2*x\n"
   ]
  },
  {
   "cell_type": "code",
   "execution_count": 45,
   "metadata": {},
   "outputs": [],
   "source": [
    "\n",
    "def bisection(f,xl,xu,eserr,N):\n",
    "    xr=(xu+xl)/2\n",
    "    xrl=0\n",
    "  \n",
    "    aprox=100\n",
    "    ans=0\n",
    "    while(aprox>eserr):\n",
    "     \n",
    "        xr=(xu+xl)/2\n",
    "        fxl=f(xl)\n",
    "        fxr=f(xr)\n",
    "    \n",
    "        if(fxl*fxr<=0):  #move thr region\n",
    "            xu=xr\n",
    "        else :\n",
    "            xl=xr\n",
    "        aprox=abs(100*(xr-xrl)/xr)\n",
    "        xrl=xr\n",
    "    ans=xr\n",
    "    return ans"
   ]
  },
  {
   "cell_type": "code",
   "execution_count": 46,
   "metadata": {},
   "outputs": [
    {
     "data": {
      "text/plain": [
       "0.71478271484375"
      ]
     },
     "execution_count": 46,
     "metadata": {},
     "output_type": "execute_result"
    }
   ],
   "source": [
    "f = lambda x: math.e**(0.5*x)-2*x\n",
    "bisection(f,0,1,0.01,4)"
   ]
  },
  {
   "cell_type": "code",
   "execution_count": 27,
   "metadata": {},
   "outputs": [],
   "source": [
    "def falsepos(f,xl,xu,eserr,N):\n",
    "    xr=0\n",
    "    xrl=0\n",
    "\n",
    "    aprox=100\n",
    "    ans=0\n",
    "    while(aprox>eserr):\n",
    "       \n",
    "        xrl=xr\n",
    "        fxu=f(xu)\n",
    "        fxl=f(xl)\n",
    "        xr=xu-(fxu*(xu-xl)/(fxu-fxl))\n",
    "        fxr=f(xr)\n",
    "        if (fxl*fxr<=0):\n",
    "            xu=xr;\n",
    "        else:\n",
    "            xl=xr\n",
    "        \n",
    "        aprox=abs(100*(xr-xrl)/xr)\n",
    "        xrl=xr\n",
    "        \n",
    "    ans=xr\n",
    "    return ans"
   ]
  },
  {
   "cell_type": "code",
   "execution_count": 28,
   "metadata": {},
   "outputs": [
    {
     "data": {
      "text/plain": [
       "4.306461845938232"
      ]
     },
     "execution_count": 28,
     "metadata": {},
     "output_type": "execute_result"
    }
   ],
   "source": [
    "f = lambda x: math.e**(0.5*x)-2*x\n",
    "falsepos(f,4,5,0.01,4)"
   ]
  },
  {
   "cell_type": "code",
   "execution_count": 33,
   "metadata": {},
   "outputs": [],
   "source": [
    "def newton(f,df,x0,eserr):\n",
    "    \n",
    "    \n",
    "    aprox=100\n",
    "    xn=x0;\n",
    "    while(aprox>eserr):\n",
    "        xnl=xn\n",
    "        xn=xn-(f(xn)/df(xn))\n",
    "        aprox=abs((xn-xnl)/xnl)*100\n",
    "        \n",
    "        \n",
    "    ans=xn\n",
    "    return ans"
   ]
  },
  {
   "cell_type": "code",
   "execution_count": 34,
   "metadata": {},
   "outputs": [
    {
     "data": {
      "text/plain": [
       "4.306584728221004"
      ]
     },
     "execution_count": 34,
     "metadata": {},
     "output_type": "execute_result"
    }
   ],
   "source": [
    "f = lambda x: math.e**(0.5*x)-2*x\n",
    "df = lambda x: (0.5*math.e**(0.5*x))-2\n",
    "newton(f,df,4,0.01)"
   ]
  },
  {
   "cell_type": "code",
   "execution_count": 47,
   "metadata": {},
   "outputs": [],
   "source": [
    "def fixed(f,x,eserr,N):\n",
    "    i=1\n",
    "    y=f(x)\n",
    "    if(y==x):\n",
    "        ans=x;\n",
    "        \n",
    "    else:\n",
    "        while (abs(100*(y-x)/y)>eserr and i+1<=N):\n",
    "            i=i+1\n",
    "            x=y\n",
    "            y=f(x)\n",
    "            \n",
    "        \n",
    "        \n",
    "    ans=y\n",
    "    return ans"
   ]
  },
  {
   "cell_type": "code",
   "execution_count": 48,
   "metadata": {},
   "outputs": [
    {
     "data": {
      "text/plain": [
       "0.7481581074987091"
      ]
     },
     "execution_count": 48,
     "metadata": {},
     "output_type": "execute_result"
    }
   ],
   "source": [
    "f = lambda x: math.e**(0.5*x)-2*x\n",
    "fixed(f,0.5,0.01,4)"
   ]
  },
  {
   "cell_type": "code",
   "execution_count": null,
   "metadata": {},
   "outputs": [],
   "source": []
  }
 ],
 "metadata": {
  "kernelspec": {
   "display_name": "Python 3",
   "language": "python",
   "name": "python3"
  },
  "language_info": {
   "codemirror_mode": {
    "name": "ipython",
    "version": 3
   },
   "file_extension": ".py",
   "mimetype": "text/x-python",
   "name": "python",
   "nbconvert_exporter": "python",
   "pygments_lexer": "ipython3",
   "version": "3.7.3"
  }
 },
 "nbformat": 4,
 "nbformat_minor": 2
}
