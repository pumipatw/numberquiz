{
 "cells": [
  {
   "cell_type": "code",
   "execution_count": 25,
   "metadata": {},
   "outputs": [],
   "source": [
    "import numpy as np"
   ]
  },
  {
   "cell_type": "code",
   "execution_count": 26,
   "metadata": {},
   "outputs": [],
   "source": [
    "A = np.array([[1, 2, -1],\n",
    "    [2, -3, 1],\n",
    "    [5, -1, -2]])\n",
    "B = np.array([[2],\n",
    "             [-1],\n",
    "             [-3]])"
   ]
  },
  {
   "cell_type": "code",
   "execution_count": 27,
   "metadata": {},
   "outputs": [
    {
     "name": "stdout",
     "output_type": "stream",
     "text": [
      "[[ 1  2 -1]\n",
      " [ 2 -3  1]\n",
      " [ 5 -1 -2]]\n"
     ]
    }
   ],
   "source": [
    "print(A)"
   ]
  },
  {
   "cell_type": "code",
   "execution_count": 28,
   "metadata": {},
   "outputs": [
    {
     "name": "stdout",
     "output_type": "stream",
     "text": [
      "[[ 2]\n",
      " [-1]\n",
      " [-3]]\n"
     ]
    }
   ],
   "source": [
    "print(B)"
   ]
  },
  {
   "cell_type": "code",
   "execution_count": 29,
   "metadata": {},
   "outputs": [
    {
     "name": "stdout",
     "output_type": "stream",
     "text": [
      "[[ 1  2  5]\n",
      " [ 2 -3 -1]\n",
      " [-1  1 -2]]\n"
     ]
    }
   ],
   "source": [
    "#transpose matrix A\n",
    "print(A.transpose())"
   ]
  },
  {
   "cell_type": "code",
   "execution_count": 30,
   "metadata": {},
   "outputs": [
    {
     "name": "stdout",
     "output_type": "stream",
     "text": [
      "[[ 3]\n",
      " [ 4]\n",
      " [17]]\n"
     ]
    }
   ],
   "source": [
    "#find the product of 2 matrices\n",
    "print(A.dot(B))"
   ]
  },
  {
   "cell_type": "code",
   "execution_count": 31,
   "metadata": {},
   "outputs": [
    {
     "name": "stdout",
     "output_type": "stream",
     "text": [
      "12\n"
     ]
    }
   ],
   "source": [
    "#determinant of matrix A\n",
    "DetA = (A[0][0]*((A[1][1]*A[2][2])-(A[1][2]*A[2][1])))-(A[0][1]*((A[1][0]*A[2][2])-(A[1][2]*A[2][0])))+(A[0][2]*((A[1][0]*A[2][1])-(A[1][1]*A[2][0])))\n",
    "print(DetA)"
   ]
  },
  {
   "cell_type": "code",
   "execution_count": 50,
   "metadata": {},
   "outputs": [
    {
     "name": "stdout",
     "output_type": "stream",
     "text": [
      "Matrix A\n",
      "[[ 1  2 -1]\n",
      " [ 2 -3  1]\n",
      " [ 5 -1 -2]]\n",
      "\n",
      "Determinant of matrix A\n",
      "12\n",
      "\n",
      "Transpose of matrix A\n",
      "[[ 1  2  5]\n",
      " [ 2 -3 -1]\n",
      " [-1  1 -2]]\n",
      "\n",
      "Determinant of each of the 2x2 minor in transpose matrix A\n",
      "[[  7  -5  -1]\n",
      " [ -9   3   3]\n",
      " [ 13 -11  -7]]\n",
      "\n",
      "Create the matrix of cofactors for find adjoint of matrix A\n",
      "[[ 7  5 -1]\n",
      " [ 9  3 -3]\n",
      " [13 11 -7]]\n",
      "\n",
      "Inverse of matrix A\n",
      "[[ 0.58333333  0.41666667 -0.08333333]\n",
      " [ 0.75        0.25       -0.25      ]\n",
      " [ 1.08333333  0.91666667 -0.58333333]]\n"
     ]
    }
   ],
   "source": [
    "#inverse of matrix A\n",
    "print(\"Matrix A\")\n",
    "print(A)\n",
    "print()\n",
    "\n",
    "##find determinant of matrix A\n",
    "print(\"Determinant of matrix A\")\n",
    "DetA = (A[0][0]*((A[1][1]*A[2][2])-(A[1][2]*A[2][1])))-(A[0][1]*((A[1][0]*A[2][2])-(A[1][2]*A[2][0])))+(A[0][2]*((A[1][0]*A[2][1])-(A[1][1]*A[2][0])))\n",
    "print(DetA)\n",
    "print()\n",
    "\n",
    "##transpose matrix A\n",
    "print(\"Transpose of matrix A\")\n",
    "C = A.transpose()\n",
    "print(C)\n",
    "print()\n",
    "\n",
    "#find the determinant of each of the 2x2 minor matrices\n",
    "print(\"Determinant of each of the 2x2 minor in transpose matrix A\")\n",
    "a = (C[1][1]*C[2][2])-(C[1][2]*C[2][1])\n",
    "b = (C[1][0]*C[2][2])-(C[1][2]*C[2][0])\n",
    "c = (C[1][0]*C[2][1])-(C[1][1]*C[2][0])\n",
    "d = (C[0][1]*C[2][2])-(C[0][2]*C[2][1])\n",
    "e = (C[0][0]*C[2][2])-(C[0][2]*C[2][0])\n",
    "f = (C[0][0]*C[2][1])-(C[0][1]*C[2][0])\n",
    "g = (C[0][1]*C[1][2])-(C[0][2]*C[1][1])\n",
    "h = (C[0][0]*C[1][2])-(C[0][2]*C[1][0])\n",
    "i = (C[0][0]*C[1][1])-(C[0][1]*C[1][0])\n",
    "D = np.array([[a, b, c],\n",
    "             [d, e, f],\n",
    "             [g, h, i]])\n",
    "print(D)\n",
    "print()\n",
    "\n",
    "#create the matrix of cofactors\n",
    "print(\"Create the matrix of cofactors for find adjoint of matrix A\")\n",
    "D = np.array([[a, b*-1, c],\n",
    "             [d*-1, e, f*-1],\n",
    "             [g, h*-1, i]])\n",
    "print(D)\n",
    "print()\n",
    "\n",
    "#find inverse of matrix A\n",
    "print(\"Inverse of matrix A\")\n",
    "E = (1/DetA)*D\n",
    "print(E)"
   ]
  },
  {
   "cell_type": "code",
   "execution_count": 56,
   "metadata": {},
   "outputs": [
    {
     "name": "stdout",
     "output_type": "stream",
     "text": [
      "Matrix A\n",
      "[[ 1  2 -1]\n",
      " [ 2 -3  1]\n",
      " [ 5 -1 -2]]\n",
      "\n",
      "Determinant of each of the 2x2 minor of matrix A\n",
      "[[  7  -9  13]\n",
      " [ -5   3 -11]\n",
      " [ -1   3  -7]]\n",
      "\n",
      "Create the matrix for find cofactors of matrix A\n",
      "[[ 7  9 13]\n",
      " [ 5  3 11]\n",
      " [-1 -3 -7]]\n",
      "\n",
      "Adjoint of matrix A\n",
      "[[ 7  5 -1]\n",
      " [ 9  3 -3]\n",
      " [13 11 -7]]\n"
     ]
    }
   ],
   "source": [
    "#matrix A\n",
    "print(\"Matrix A\")\n",
    "print(A)\n",
    "print()\n",
    "\n",
    "#find the determinant of each of the 2x2 minor matrices\n",
    "print(\"Determinant of each of the 2x2 minor of matrix A\")\n",
    "a = (A[1][1]*A[2][2])-(A[1][2]*A[2][1])\n",
    "b = (A[1][0]*A[2][2])-(A[1][2]*A[2][0])\n",
    "c = (A[1][0]*A[2][1])-(A[1][1]*A[2][0])\n",
    "d = (A[0][1]*A[2][2])-(A[0][2]*A[2][1])\n",
    "e = (A[0][0]*A[2][2])-(A[0][2]*A[2][0])\n",
    "f = (A[0][0]*A[2][1])-(A[0][1]*A[2][0])\n",
    "g = (A[0][1]*A[1][2])-(A[0][2]*A[1][1])\n",
    "h = (A[0][0]*A[1][2])-(A[0][2]*A[1][0])\n",
    "i = (A[0][0]*A[1][1])-(A[0][1]*A[1][0])\n",
    "minorA = np.array([[a, b, c],\n",
    "             [d, e, f],\n",
    "             [g, h, i]])\n",
    "print(minorA)\n",
    "print()\n",
    "\n",
    "#create the matrix of cofactors\n",
    "print(\"Create the matrix for find cofactors of matrix A\")\n",
    "coA = np.array([[a, b*-1, c],\n",
    "             [d*-1, e, f*-1],\n",
    "             [g, h*-1, i]])\n",
    "print(coA)\n",
    "print()\n",
    "\n",
    "#find adjoint of matrix A by transpose cofactor of matrix A\n",
    "print(\"Adjoint of matrix A\")\n",
    "adjA = coA.transpose()\n",
    "print(adjA)"
   ]
  },
  {
   "cell_type": "code",
   "execution_count": null,
   "metadata": {},
   "outputs": [],
   "source": []
  }
 ],
 "metadata": {
  "kernelspec": {
   "display_name": "Python 3",
   "language": "python",
   "name": "python3"
  },
  "language_info": {
   "codemirror_mode": {
    "name": "ipython",
    "version": 3
   },
   "file_extension": ".py",
   "mimetype": "text/x-python",
   "name": "python",
   "nbconvert_exporter": "python",
   "pygments_lexer": "ipython3",
   "version": "3.7.3"
  }
 },
 "nbformat": 4,
 "nbformat_minor": 2
}
